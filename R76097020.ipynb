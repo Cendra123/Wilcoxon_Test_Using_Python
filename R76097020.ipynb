{
 "cells": [
  {
   "cell_type": "code",
   "execution_count": 1,
   "metadata": {},
   "outputs": [],
   "source": [
    "import pandas\n",
    "from scipy.stats import norm"
   ]
  },
  {
   "cell_type": "code",
   "execution_count": 2,
   "metadata": {},
   "outputs": [],
   "source": [
    "datasets = pandas.read_csv('measure.txt', sep=\"\\t\", header=None)"
   ]
  },
  {
   "cell_type": "code",
   "execution_count": 3,
   "metadata": {},
   "outputs": [
    {
     "name": "stdout",
     "output_type": "stream",
     "text": [
      "         0       1       2       3\n",
      "0   0.7190  0.7206  0.7866  0.8402\n",
      "1   0.9920  0.9918  0.9932  0.9932\n",
      "2   0.9810  0.9810  0.9824  0.9754\n",
      "3   0.9778  0.9776  0.9858  0.9800\n",
      "4   0.7648  0.7682  0.8682  0.8488\n",
      "5   0.9172  0.9172  0.9270  0.9622\n",
      "6   0.9776  0.9778  0.9798  0.9580\n",
      "7   0.9634  0.9624  0.9764  0.9094\n",
      "8   0.9394  0.9392  0.9436  0.9546\n",
      "9   0.9946  0.9946  0.9956  0.9834\n",
      "10  0.9380  0.9380  0.9592  0.9622\n",
      "11  0.9982  0.9982  0.9986  0.9970\n",
      "12  0.9696  0.9696  0.9734  0.9656\n",
      "13  0.6208  0.6210  0.6224  0.6946\n",
      "14  0.9170  0.9168  0.9328  0.9296\n",
      "15  0.7104  0.7100  0.7488  0.6734\n",
      "16  0.7984  0.8000  0.8594  0.8968\n",
      "17  0.7654  0.7632  0.7616  0.7696\n"
     ]
    }
   ],
   "source": [
    "print(datasets)"
   ]
  },
  {
   "cell_type": "code",
   "execution_count": 4,
   "metadata": {},
   "outputs": [
    {
     "name": "stdout",
     "output_type": "stream",
     "text": [
      "4\n"
     ]
    }
   ],
   "source": [
    "print(len(datasets.columns))"
   ]
  },
  {
   "cell_type": "code",
   "execution_count": 5,
   "metadata": {},
   "outputs": [],
   "source": [
    "def rankList2(aList):\n",
    "    sortList = aList.copy()\n",
    "    sortList.sort()\n",
    "    \n",
    "    latestRank = 1\n",
    "    rankDict = {}\n",
    "    rankFreq = {}\n",
    "    freqScore = 1\n",
    "    for i in range(1, len(sortList)):\n",
    "\n",
    "        if sortList[i] == sortList[i-1]:\n",
    "            freqScore = freqScore + 1\n",
    "\n",
    "        if sortList[i] != sortList[i-1]:\n",
    "            rank = (2*latestRank + freqScore - 1) / 2\n",
    "\n",
    "            rankDict[sortList[i-1]] = rank\n",
    "            rankFreq[rank] = freqScore\n",
    "            latestRank = latestRank + freqScore\n",
    "            freqScore = 1\n",
    "\n",
    "    # the last case\n",
    "    rankDict[sortList[len(sortList)-1]] = (2*latestRank + freqScore - 1) / 2\n",
    "    rankFreq[(2*latestRank + freqScore - 1) / 2] = freqScore\n",
    "    \n",
    "    # replace list scores with rank scores\n",
    "    allRanks = []\n",
    "    for i in aList:\n",
    "        allRanks.append(rankDict[i])\n",
    "    \n",
    "    return rankFreq, allRanks"
   ]
  },
  {
   "cell_type": "code",
   "execution_count": 6,
   "metadata": {},
   "outputs": [
    {
     "name": "stdout",
     "output_type": "stream",
     "text": [
      "P-Value datasets(0) and dataset (1) => 0.8743670611628918\n",
      "P-Value datasets(0) and dataset (2) => 0.0006292038308113312\n",
      "P-Value datasets(0) and dataset (3) => 0.1769450755738573\n",
      "P-Value datasets(1) and dataset (2) => 0.0005348563282112639\n",
      "P-Value datasets(1) and dataset (3) => 0.15695518862262658\n",
      "P-Value datasets(2) and dataset (3) => 0.831310207979425\n"
     ]
    }
   ],
   "source": [
    "for dataset_a in range(0,len(datasets.columns)):\n",
    "    for dataset_b in range(dataset_a,len(datasets.columns)):\n",
    "        # Indexing\n",
    "        if(dataset_b != dataset_a):\n",
    "            #selisih = pandas.DataFrame({'selisih' : []})\n",
    "            x = []\n",
    "            \n",
    "            for row in range(0,len(datasets)):\n",
    "                #print(str(dataset_a)+\" \"+str(dataset_b))\n",
    "                #row and columns\n",
    "                #print(str (datasets.iloc[row][dataset_a])+\" - \"+str (datasets.iloc[row][dataset_b])+\" = \"+str (datasets.iloc[row][dataset_a] - datasets.iloc[row][dataset_b]))\n",
    "                if(datasets.iloc[row][dataset_a] != datasets.iloc[row][dataset_b]):\n",
    "                    x = x + [(datasets.iloc[row][dataset_a], datasets.iloc[row][dataset_b])] \n",
    "            #print(x)\n",
    "            nr = len(x)\n",
    "            D = []\n",
    "            sg = []\n",
    "            for i in range(nr):\n",
    "                D = D + [abs(x[i][0]-x[i][1])]\n",
    "                if x[i][0]>x[i][1]:\n",
    "                    sg = sg + [1]\n",
    "                else:\n",
    "                    sg = sg + [-1]\n",
    "            \n",
    "            #print(D)\n",
    "            #print(sg)\n",
    "            rFreq, R = rankList2(D)\n",
    "            #print(R)\n",
    "            #print(rFreq)\n",
    "            Wplus = 0\n",
    "            Wmin = 0\n",
    "            for i in range(nr):\n",
    "                if sg[i]>0:\n",
    "                    Wplus = Wplus + R[i]\n",
    "                else:\n",
    "                    Wmin = Wmin + R[i]\n",
    "            \n",
    "            m = nr * (nr + 1) / 4\n",
    "            var = nr * (nr + 1) * (2*nr + 1) / 24\n",
    "            T = 0\n",
    "            for key in rFreq:\n",
    "                T = T + rFreq[key]**3 - rFreq[key]\n",
    "            varAdj = var - T/48\n",
    "            SEadj = varAdj**0.5\n",
    "            adj = varAdj**0.5\n",
    "            Z1 = (Wplus - m) / SEadj\n",
    "            Z2 = (Wmin - m) / SEadj\n",
    "            print(\"P-Value datasets(\"+str(dataset_a)+\") and dataset (\"+str(dataset_b)+\") => \"+ str(2*(1-norm.cdf(abs(Z2)))))"
   ]
  },
  {
   "cell_type": "code",
   "execution_count": null,
   "metadata": {},
   "outputs": [],
   "source": []
  },
  {
   "cell_type": "code",
   "execution_count": null,
   "metadata": {},
   "outputs": [],
   "source": []
  }
 ],
 "metadata": {
  "kernelspec": {
   "display_name": "Python 3",
   "language": "python",
   "name": "python3"
  },
  "language_info": {
   "codemirror_mode": {
    "name": "ipython",
    "version": 3
   },
   "file_extension": ".py",
   "mimetype": "text/x-python",
   "name": "python",
   "nbconvert_exporter": "python",
   "pygments_lexer": "ipython3",
   "version": "3.7.0"
  }
 },
 "nbformat": 4,
 "nbformat_minor": 4
}
